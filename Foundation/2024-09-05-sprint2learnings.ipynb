{
 "cells": [
  {
   "cell_type": "raw",
   "metadata": {
    "vscode": {
     "languageId": "raw"
    }
   },
   "source": [
    "---\n",
    "toc: true\n",
    "layout: post\n",
    "type: hacks\n",
    "courses: { compsci: {week: 14} }\n",
    "title: Sprint 2 Learnings - Ansh\n",
    "description: Regarding the knowledge gained throughout the course of sprint 2\n",
    "---"
   ]
  },
  {
   "cell_type": "markdown",
   "metadata": {},
   "source": [
    "# Personal Reflection\n",
    "Throughout the course of the sprint, I learned about the very basics in programming and their use cases. I explored data types, functions, variables, conditionals, and many other foundational concepts in programming while gaining a clearer understanding of their broad range of use cases in real, applicable scenarios. The practical applications of these lessons were reflectled through 'hacks,' tangible demonstrations of the concepts I had learned, reinforcing my understanding and allowing me to apply theoretical knowledge in real-world coding scenarios. The sprint’s structured approach allowed me to build a strong foundation while fostering my ability to think programmatically. Through constant engagement with these core concepts, I became more comfortable with debugging, problem-solving, and writing efficient code. I now feel confident in my ability to use these tools and techniques effectively, and I am eager to tackle more advanced challenges. Having solidified my grasp of these fundamental programming skills through comprehensive hacks and meaningful practice, I feel fully prepared to progress to the next sprint and continue my learning journey.\n",
    "\n",
    "<br>\n",
    "\n",
    "#  Personal Grading\n",
    "| **Assignment**             | **Points**    | **Grade** | **Evidence** |\n",
    "|----------------------------|---------------|-----------|--------------|\n",
    "| Baseline Grade             | 55%           |           |              |\n",
    "| Max Grade                  | 90%           |           |              |\n",
    "| Pull Request (Integration) | 1             | 0.90          | (on Mihir's fork)             |\n",
    "| Relevancy Checklist (Peer) | 2             | 1.80          |              |\n",
    "| Lesson Style (Period)      | 1             | 0.90          |              |\n",
    "| Homework, Popcorn Hacks    | 1 x 5         | 0.90 x 5          | [here](https://github.com/magic005/AnshCSP/blob/main/_notebooks/Foundation/2024-09-05-3-8_hacks.ipynb)             |\n",
    "| Individual Contribution    | 1             | 0.90          | [here](https://github.com/Hypernova101/MihirCSP/issues/9)             |\n",
    "| Personal Notebooks / Blogs | 1             | 0.90          | [here](https://github.com/magic005/AnshCSP/blob/main/_notebooks/Foundation/2024-09-05-3-8_hacks.ipynb)             |\n",
    "| Total                      | 11            | 9.9          |              |\n",
    "\n",
    "<br>\n",
    "\n",
    "| **Skill**                  | **Points**    | **Grade** | **Evidence** |\n",
    "|----------------------------|---------------|-----------|--------------|\n",
    "| Work Habits (Analytics)    |   1           | 0.90          | [here](https://github.com/Hypernova101/portfolio_2025/graphs/contributors)             |\n",
    "| Team Planning (Issue)      |   1           | 0.90          | [here](https://github.com/Hypernova101/MihirCSP/issues/9)             |\n",
    "| Presentation Memories      |   1           | 0.90          |              |\n",
    "| Grading and Feedback       |   1           | 0.90          | complete on spreadsheet             |\n",
    "| Beyond Perfunctory         |   1           | 0.90          |              | "
   ]
  },
  {
   "cell_type": "markdown",
   "metadata": {},
   "source": [
    "# Team Reflection\n",
    "Through our learning of topics 3.1, and 3.4, we were able to create a team repo with all the info on the subsections of each topic. In this team teach, we:\n",
    "\n",
    "- Learned and taught other students to use variables, data types, and in-depth strings\n",
    "- Learned to use a group repository and handle forked repositories and merges\n",
    "- Learned how to resolve merge conflicts and fetch push requests from a master branch\n",
    "- Learned and taught how to use mathematical operations in Python\n",
    "- Learned and taught how to effectively perform conditional statements\n",
    "- Learned and taught about data types, and the properties of each one\n",
    "- Learned and taught in-depth string manipulation and use cases\n",
    "- Made mini projects, “hacks,” such as string analyzers and password - strength validators\n",
    "\n",
    "By teaching the class about our topics, variables and strings, we were able to deepen our own understanding. We presented a comprehensive, engaging lesson with breakpoints, interactive elements, and snippets of genuine code with in-depth explanations embedded throughout the notebooks. In the process of creating these lessons, we were able to gain a better understanding of the topics and their use cases beyond the simplicity of many of the other hacks presented, such that we’d be able to apply the knowledge to a genuine project at some point in the future. We also designed hacks that reflected real-world use cases, such as our password validator, something seen everywhere, on any website. We also designed a hack around the storage of user info in a database, and the creation of a unique ID designed specifically for each user. These hacks, while simple in theory, reflect concepts seen anywhere in the world of programming, and have applications and implications beyond these mini-lessons. The creation of the hacks and solutions to them displayed our understanding of the concepts and readiness to progress to the next sprint. Overall, the team teaching served as a stepping stone for our improvement and understanding in programming, and our tangibles served as testaments of our readiness for the next stage of the class. \n",
    "\n",
    "\n",
    "https://nighthawkcoders.github.io/portfolio_2025/csp/big-idea/p1/3-1-1 \n",
    "In this lesson, 3.1.1, we taught how to define variables in python and print them.\n",
    "\n",
    "https://nighthawkcoders.github.io/portfolio_2025/csp/big-idea/p1/3-1-2 \n",
    "In this lesson, 3.1.2, we taught how to perform operations using variables that are integers.\n",
    "\n",
    "https://nighthawkcoders.github.io/portfolio_2025/csp/big-idea/p1/3-1-3 \n",
    "In this lesson, 3.1.3, we taught how to define a variable through user input, therefore printing an output from this user input.\n",
    "\n",
    "\n",
    "https://nighthawkcoders.github.io/portfolio_2025/csp/big-idea/p1/3-1-4 \n",
    "In this lesson, 3.1.4, we taught how to define and print strings in python.\n",
    "\n",
    "https://nighthawkcoders.github.io/portfolio_2025/csp/big-idea/p1/3-1-5 \n",
    "In this lesson, 3.1.5, we taught how to perform operations with strings using string concatenation.\n",
    "\n",
    "https://nighthawkcoders.github.io/portfolio_2025/csp/big-idea/p1/3-4-1-python-strings\n",
    "In this lesson, 3.4.1, we taught the basics of string analysis including creating substrings and case conversion in python. We also provided a sample string analyzer.\n",
    "\n",
    "https://nighthawkcoders.github.io/portfolio_2025/csp/big-idea/p1/3-4-2-js-strings\n",
    "In this lesson, 3.4.2, we taught the basics of string analysis including creating substrings and case conversion in javascript. We also provided a sample string analyzer.\n",
    "\n",
    "https://nighthawkcoders.github.io/portfolio_2025/csp/big-idea/p1/3-4-3-python-hack\n",
    "In this lesson, 3.4.3, we did a walkthrough of a password validator and examples how we used string manipulation to make it work.\n"
   ]
  }
 ],
 "metadata": {
  "kernelspec": {
   "display_name": "Python 3 (ipykernel)",
   "language": "python",
   "name": "python3"
  },
  "language_info": {
   "codemirror_mode": {
    "name": "ipython",
    "version": 3
   },
   "file_extension": ".py",
   "mimetype": "text/x-python",
   "name": "python",
   "nbconvert_exporter": "python",
   "pygments_lexer": "ipython3",
   "version": "3.12.5"
  }
 },
 "nbformat": 4,
 "nbformat_minor": 4
}
