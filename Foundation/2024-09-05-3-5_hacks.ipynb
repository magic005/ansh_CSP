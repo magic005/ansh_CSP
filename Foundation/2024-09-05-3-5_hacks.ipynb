{
 "cells": [
  {
   "cell_type": "raw",
   "metadata": {
    "vscode": {
     "languageId": "raw"
    }
   },
   "source": [
    "---\n",
    "toc: true\n",
    "layout: post\n",
    "type: hacks\n",
    "courses: { compsci: {week: 14} }\n",
    "title: 3.10 - Ansh\n",
    "description: Hacks from lesson 3.10\n",
    "---"
   ]
  },
  {
   "cell_type": "markdown",
   "metadata": {},
   "source": [
    "# 3.5 Hack 1\n",
    "## Objective\n",
    "In this hack, we create functions to check if a boolean is true, and then one to compare two booleans to determine if which is true/false."
   ]
  },
  {
   "cell_type": "code",
   "execution_count": 13,
   "metadata": {},
   "outputs": [
    {
     "name": "stdout",
     "output_type": "stream",
     "text": [
      "the boolean is True\n",
      "only boolean1 is True\n"
     ]
    }
   ],
   "source": [
    "# the function for checking if true\n",
    "def check_boolean(value):\n",
    "    if value:\n",
    "        return \"the boolean is True\"\n",
    "    else:\n",
    "        return \"the boolean is False\"\n",
    "\n",
    "# the function for checking which is what\n",
    "def check_both_or_either(value1, value2):\n",
    "    if value1 and value2:\n",
    "        return \"both boolean1 and boolean2 are True\"\n",
    "    elif value1 or value2:\n",
    "        if value1 and not value2:\n",
    "            return \"only boolean1 is True\"\n",
    "        elif value2 and not value1:\n",
    "            return \"only boolean2 is True\"\n",
    "        else:\n",
    "            return \"either boolean1 or boolean2 is True\"\n",
    "    else:\n",
    "        return \"neither boolean1 nor boolean2 is True\"\n",
    "\n",
    "# example usage\n",
    "boolean_value = True # for first check\n",
    "boolean1 = True # for second\n",
    "boolean2 = False # for second\n",
    "\n",
    "# check if a single boolean is true\n",
    "print(check_boolean(boolean_value))\n",
    "\n",
    "# check if both or either of two booleans are true\n",
    "print(check_both_or_either(boolean1, boolean2))"
   ]
  },
  {
   "cell_type": "markdown",
   "metadata": {},
   "source": [
    "# 3.5 Hack 2\n",
    "## Objective\n",
    "In this hack, we create a program to express the output of a function checking if a number is greater than 10 as boolean. "
   ]
  },
  {
   "cell_type": "code",
   "execution_count": 17,
   "metadata": {},
   "outputs": [
    {
     "name": "stdout",
     "output_type": "stream",
     "text": [
      "True\n"
     ]
    }
   ],
   "source": [
    "# function to check if greater\n",
    "def is_greater_than_10(number):\n",
    "    return number > 10\n",
    "\n",
    "# example usage\n",
    "number = 15\n",
    "print(is_greater_than_10(number))"
   ]
  },
  {
   "cell_type": "markdown",
   "metadata": {},
   "source": [
    "# 3.5 Hack 3\n",
    "## Objective\n",
    "In this hack, we create a program to express the output of a function checking if a number is three digits long as boolean."
   ]
  },
  {
   "cell_type": "code",
   "execution_count": 20,
   "metadata": {},
   "outputs": [
    {
     "name": "stdout",
     "output_type": "stream",
     "text": [
      "True\n"
     ]
    }
   ],
   "source": [
    "# function to check if num is in 3 digit range\n",
    "def is_three_digits(number):\n",
    "    return abs(number) >= 100 and abs(number) <= 999\n",
    "\n",
    "# example usage\n",
    "number = 150\n",
    "print(is_three_digits(number))"
   ]
  },
  {
   "cell_type": "markdown",
   "metadata": {},
   "source": [
    "# Homework Hack (w/ challenge)\n",
    "## Objective\n",
    "In this hack, we create a program to display a truth table, and look into De Morgan's Law. "
   ]
  },
  {
   "cell_type": "code",
   "execution_count": 2,
   "metadata": {},
   "outputs": [
    {
     "name": "stdout",
     "output_type": "stream",
     "text": [
      "truth table:\n",
      "A     B     A AND B    A OR B     NOT A      NOT B     \n",
      "---------------------------------------------\n",
      "1     1     1          1          0          0         \n",
      "1     0     0          1          0          1         \n",
      "0     1     0          1          1          0         \n",
      "0     0     0          0          1          1         \n",
      "demonstrating De Morgan's law:\n",
      "A     B     NOT (A AND B)   (NOT A) OR (NOT B)   NOT (A OR B)    (NOT A) AND (NOT B)      \n",
      "-------------------------------------------------------------------------------------\n",
      "1     1     0               0                    0               0                        \n",
      "1     0     1               1                    0               0                        \n",
      "0     1     1               1                    0               0                        \n",
      "0     0     1               1                    1               1                        \n"
     ]
    }
   ],
   "source": [
    "def truth_table():\n",
    "    print(f\"{'A':<5} {'B':<5} {'A AND B':<10} {'A OR B':<10} {'NOT A':<10} {'NOT B':<10}\")\n",
    "    print(\"-\" * 45)\n",
    "\n",
    "    values = [True, False]\n",
    "    \n",
    "    for A in values:\n",
    "        for B in values:\n",
    "            print(f\"{A:<5} {B:<5} {A and B:<10} {A or B:<10} {not A:<10} {not B:<10}\")\n",
    "\n",
    "def de_morgan_law():\n",
    "    print(f\"{'A':<5} {'B':<5} {'NOT (A AND B)':<15} {'(NOT A) OR (NOT B)':<20} {'NOT (A OR B)':<15} {'(NOT A) AND (NOT B)':<25}\")\n",
    "    print(\"-\" * 85)\n",
    "\n",
    "    values = [True, False]\n",
    "    \n",
    "    for A in values:\n",
    "        for B in values:\n",
    "            not_and = not (A and B)\n",
    "            not_a_or_not_b = (not A) or (not B)\n",
    "            not_or = not (A or B)\n",
    "            not_a_and_not_b = (not A) and (not B)\n",
    "            print(f\"{A:<5} {B:<5} {not_and:<15} {not_a_or_not_b:<20} {not_or:<15} {not_a_and_not_b:<25}\")\n",
    "\n",
    "def main():\n",
    "    print(\"truth table:\")\n",
    "    truth_table()\n",
    "    print(\"demonstrating De Morgan's law:\")\n",
    "    de_morgan_law()\n",
    "\n",
    "main()"
   ]
  }
 ],
 "metadata": {
  "kernelspec": {
   "display_name": "Python 3 (ipykernel)",
   "language": "python",
   "name": "python3"
  },
  "language_info": {
   "codemirror_mode": {
    "name": "ipython",
    "version": 3
   },
   "file_extension": ".py",
   "mimetype": "text/x-python",
   "name": "python",
   "nbconvert_exporter": "python",
   "pygments_lexer": "ipython3",
   "version": "3.12.5"
  }
 },
 "nbformat": 4,
 "nbformat_minor": 4
}
