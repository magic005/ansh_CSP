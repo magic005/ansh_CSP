{
 "cells": [
  {
   "cell_type": "raw",
   "metadata": {
    "vscode": {
     "languageId": "raw"
    }
   },
   "source": [
    "---\n",
    "toc: true\n",
    "layout: post\n",
    "type: hacks\n",
    "courses: { compsci: {week: 14} }\n",
    "title: 3.8 - Ansh\n",
    "description: Hacks from lesson 3.8\n",
    "---"
   ]
  },
  {
   "cell_type": "markdown",
   "metadata": {},
   "source": [
    "# 3.8 Hack 1 (with challenge)\n",
    "## Objective\n",
    "In this hack, we determine whether a user is a student using multiple inputted parameters. Then, we determine discount using age (challenge)."
   ]
  },
  {
   "cell_type": "code",
   "execution_count": 1,
   "metadata": {},
   "outputs": [
    {
     "name": "stdout",
     "output_type": "stream",
     "text": [
      "adult Ticket: no discount\n",
      "student discount: 20% off\n",
      "your ticket price is: $8.00\n"
     ]
    }
   ],
   "source": [
    "def get_student_status():\n",
    "    # prompt the user to see if they are a student\n",
    "    while True:\n",
    "        student = input(\"are you a student? (yes or no): \").lower()\n",
    "        if student == \"yes\":\n",
    "            return True\n",
    "        elif student == \"no\":\n",
    "            return False\n",
    "        else:\n",
    "            print(\"invalid response. Please answer with 'yes' or 'no'.\")\n",
    "\n",
    "def calculate_ticket_price():\n",
    "    try:\n",
    "        # ask for the user's age\n",
    "        age = int(input(\"enter your age: \"))\n",
    "\n",
    "        # determine base ticket price based on age groups\n",
    "        if age < 0:\n",
    "            print(\"invalid age entered. age cannot be negative.\")\n",
    "            return\n",
    "        elif age <= 12:\n",
    "            base_price = 10 * 0.5  # 50% off for children\n",
    "            print(\"child Ticket: 50% off\")\n",
    "        elif age <= 63:\n",
    "            base_price = 10  # full price for adults\n",
    "            print(\"adult Ticket: no discount\")\n",
    "        else:\n",
    "            base_price = 10 * 0.7  # 30% off for seniors\n",
    "            print(\"senior ticket: 30% off\")\n",
    "\n",
    "        # check if the user is a student for an additional discount\n",
    "        if get_student_status():\n",
    "            discount_price = base_price * 0.8  # 20% off for students\n",
    "            print(\"student discount: 20% off\")\n",
    "        else:\n",
    "            discount_price = base_price\n",
    "\n",
    "        # output the final ticket price\n",
    "        print(f\"your ticket price is: ${discount_price:.2f}\")\n",
    "\n",
    "    except ValueError:\n",
    "        print(\"invalid input. please enter a valid age.\")\n",
    "\n",
    "# call the function to calculate the ticket price\n",
    "calculate_ticket_price()"
   ]
  },
  {
   "cell_type": "markdown",
   "metadata": {},
   "source": [
    "# 3.8 Hack 2\n",
    "## Objective\n",
    "In this hack, we determine whether the user input, as in the previous hack, is even or odd using try/except to only accept valid data. "
   ]
  },
  {
   "cell_type": "code",
   "execution_count": 4,
   "metadata": {},
   "outputs": [
    {
     "name": "stdout",
     "output_type": "stream",
     "text": [
      "the number 15 is odd.\n"
     ]
    }
   ],
   "source": [
    "def check_even_or_odd():\n",
    "    try:\n",
    "        # ask the user for a number (in this case, the age)\n",
    "        age = int(input(\"enter your age: \"))\n",
    "\n",
    "        # check if the number is even or odd\n",
    "        if age % 2 == 0:\n",
    "            print(f\"the number {age} is even.\")\n",
    "        else:\n",
    "            print(f\"the number {age} is odd.\")\n",
    "    except ValueError:\n",
    "        print(\"invalid input. Please enter a valid number.\")\n",
    "\n",
    "# call the function to check even or odd\n",
    "check_even_or_odd()"
   ]
  },
  {
   "cell_type": "markdown",
   "metadata": {},
   "source": [
    "# 3.8 Homework Hack\n",
    "## Objective\n",
    "In this hack, we prompt for a numeric user input and determine positive or negative, and ensure that only positive numbers are accepted. "
   ]
  },
  {
   "cell_type": "code",
   "execution_count": 5,
   "metadata": {},
   "outputs": [
    {
     "name": "stdout",
     "output_type": "stream",
     "text": [
      "success! You've entered a positive number: 15.0\n"
     ]
    }
   ],
   "source": [
    "def get_positive_number():\n",
    "    while True:\n",
    "        try:\n",
    "            # ask the user for a number\n",
    "            number = float(input(\"please enter a number: \"))\n",
    "\n",
    "            # check if the number is positive\n",
    "            if number > 0:\n",
    "                print(f\"success! You've entered a positive number: {number}\")\n",
    "                break  # exit the loop once a positive number is entered\n",
    "            else:\n",
    "                print(\"try again. The number must be positive.\")\n",
    "\n",
    "        except ValueError:\n",
    "            # display an error message if input is not a number\n",
    "            print(\"error: That is not a valid number. Please try again.\")\n",
    "\n",
    "# call the function\n",
    "get_positive_number()"
   ]
  }
 ],
 "metadata": {
  "kernelspec": {
   "display_name": "Python 3 (ipykernel)",
   "language": "python",
   "name": "python3"
  },
  "language_info": {
   "codemirror_mode": {
    "name": "ipython",
    "version": 3
   },
   "file_extension": ".py",
   "mimetype": "text/x-python",
   "name": "python",
   "nbconvert_exporter": "python",
   "pygments_lexer": "ipython3",
   "version": "3.12.5"
  }
 },
 "nbformat": 4,
 "nbformat_minor": 4
}
