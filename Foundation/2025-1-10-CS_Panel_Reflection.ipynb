{
 "cells": [
  {
   "cell_type": "raw",
   "metadata": {
    "vscode": {
     "languageId": "raw"
    }
   },
   "source": [
    "---\n",
    "toc: true\n",
    "layout: post\n",
    "type: issues\n",
    "courses: { compsci: {week: 14} }\n",
    "title: CS Panel Blog - Ansh\n",
    "description: My reflection and understanding of the panel held on Jan 8th, 2025.\n",
    "---"
   ]
  },
  {
   "cell_type": "markdown",
   "metadata": {},
   "source": [
    "# CS Panel Reflection\n",
    "\n",
    "<img src=\"{{site.baseurl}}/images/cs_panel.png\">\n",
    "\n",
    "## Why CS?\n",
    "\n",
    "As the panelists discovered their reasonings for pursuing CS, I found many, *many* commonalities in my own experience. David and Michael mentioned their passion and sense of fulfillment in taking things apart and putting them back together, and the sense of fulfillment in project based learning, something which I could seriously relate to, as from a young age I've enjoyed engineering and python projects, and tackling their challenges part by part.\n",
    "\n",
    "I also related to Vivian's interest in web development and hacking, as I have been competing in CyberPatriot (in which I've gone to the national finals) since middle school and creating iterations of my own personal portfolio websites, things which I've seriously enjoyed.\n",
    "\n",
    "The most relatable statement, and the thing that really draws me to CS, is Edwin's statement regarding the pressures of living in San Diego. I've been emersed in CS from a young age not only because it's interesting to me, but because California has exploded with CS related opportunity in my generation, and thus there exists some pressure for me to pursue it after being emersed in it for so long.\n",
    "\n",
    "## Key Takeaways\n",
    "\n",
    "The main thing I gathered from the panel was that in all CS, or really any endevours, there should be heavy emphasis on the process as opposed to the final product. When conveying progress and achievements to others, whether it be in a team or to a professor, focus should be on:\n",
    "\n",
    "- What you want it to do\n",
    "- Your approach in making it do what you want\n",
    "- **Your process**\n",
    "\n",
    "This is something which I've struggled to see clearly, as I've never really prioritized the process and my understanding over simply attaining a finished product, and that apparently doesn't turn out well in the real world. I learned that I need to essentially just demonstrate that I **understand** what it is that I'm doing, whether it works or not.\n",
    "\n",
    "I can employ these learnings in many places, starting with my live reviews with Mr. Mort, as so far I've been so focused on producing a product that I've neglected to fully understand what I'm doing in basics, which Mr. Mort obviously likes to see in the form of our code.\n",
    "\n",
    "## Skills and Methodologies\n",
    "\n",
    "From the panel, I learned that many of the skills I've developed through my experience in CS and this class (CSP) are applied in real, professional environments. Tools would include Git, Flask, SQL. Many of the project organization tools we use are apparently common in corperate environments, which was a surpise since I frankly found them to be incredibly annoying/unneccessary. Those would include things like:\n",
    "\n",
    "- SCRUM Organization\n",
    "- Agile Methodology\n",
    "- Kanban Boards\n",
    "- Issues (for literally every bit of progress)\n",
    "- Flowcharts\n",
    "\n",
    "I initially thought that these were things that Mr. Mort just wanted to see solely for him to track our progress, though, the panelists helped clarify the need for them in professional environments. They make working in large groups much, **much** more efficient since progress is clearly and precisly communicated, and with large amounts of work it also makes it less of a burden/weight when breaking it into parts and using issues. Flowcharts are also insanely helpful, as I've realized that they lay the ground work for the entire project, and I recognize now that if my group actually used the flowchart, or really any of the planning methods we created, we'd be much more organized and much further ahead.\n",
    "\n",
    "In essence, I recognize that the skills Mr. Mort has us employ are in fact not useless/mundane, and can seriously improve efficiency, collaboration, cohesiveness, and the overall quality of a project. \n"
   ]
  }
 ],
 "metadata": {
  "kernelspec": {
   "display_name": "Python 3 (ipykernel)",
   "language": "python",
   "name": "python3"
  },
  "language_info": {
   "codemirror_mode": {
    "name": "ipython",
    "version": 3
   },
   "file_extension": ".py",
   "mimetype": "text/x-python",
   "name": "python",
   "nbconvert_exporter": "python",
   "pygments_lexer": "ipython3",
   "version": "3.12.5"
  }
 },
 "nbformat": 4,
 "nbformat_minor": 4
}
