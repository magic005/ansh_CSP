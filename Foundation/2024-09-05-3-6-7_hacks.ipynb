{
 "cells": [
  {
   "cell_type": "raw",
   "metadata": {
    "vscode": {
     "languageId": "raw"
    }
   },
   "source": [
    "---\n",
    "toc: true\n",
    "layout: post\n",
    "type: hacks\n",
    "courses: { compsci: {week: 14} }\n",
    "title: 3.6 & 3.7 Hacks - Ansh\n",
    "description: Hacks from lessons 3.6 and 3.7\n",
    "---"
   ]
  },
  {
   "cell_type": "markdown",
   "metadata": {},
   "source": [
    "# 3.6 Hack 1\n",
    "## Objective\n",
    "In this hack, we take two user inputs (numbers), and compare to determine if the values are equal, or which is greater."
   ]
  },
  {
   "cell_type": "code",
   "execution_count": 9,
   "metadata": {},
   "outputs": [
    {
     "name": "stdout",
     "output_type": "stream",
     "text": [
      "22 is larger than 18\n"
     ]
    }
   ],
   "source": [
    "# take two numbers as input from the user\n",
    "num1 = input(\"enter the first number: \")\n",
    "num2 = input(\"enter the second number: \")\n",
    "\n",
    "# check if the numbers are equal\n",
    "if num1 == num2:\n",
    "    print(\"the numbers are equal\")\n",
    "else:\n",
    "    # determine which number is larger\n",
    "    if num1 > num2:\n",
    "        print(f\"{num1} is larger than {num2}\")\n",
    "    else:\n",
    "        print(f\"{num2} is larger than {num1}\")\n",
    "\n",
    "# yay"
   ]
  },
  {
   "cell_type": "markdown",
   "metadata": {},
   "source": [
    "# 3.7 Hack 1\n",
    "## Objective\n",
    "In this hack, we determine whether a student is passing based on their attendance and exam scores, and then use python to determine shipping costs using multiple parameters."
   ]
  },
  {
   "cell_type": "raw",
   "metadata": {
    "vscode": {
     "languageId": "raw"
    }
   },
   "source": [
    "Input exam_score\n",
    "Input attendance_percentage\n",
    "\n",
    "IF exam_score >= 50 THEN\n",
    "    IF attendance_percentage >= 75 THEN\n",
    "        Print \"Pass\"\n",
    "    ELSE\n",
    "        Print \"Fail due to low attendance\"\n",
    "    ENDIF\n",
    "ELSE\n",
    "    Print \"Fail due to low exam score\"\n",
    "ENDIF"
   ]
  },
  {
   "cell_type": "code",
   "execution_count": 13,
   "metadata": {},
   "outputs": [
    {
     "name": "stdout",
     "output_type": "stream",
     "text": [
      "Shipping cost: $30\n"
     ]
    }
   ],
   "source": [
    "# input the weight of the package and delivery speed\n",
    "weight = float(input(\"Enter the weight of the package (in kg): \"))\n",
    "speed = input(\"Enter the delivery speed (standard or express): \").lower()\n",
    "\n",
    "# calculate shipping cost using nested conditionals\n",
    "if weight <= 2:\n",
    "    if speed == \"standard\":\n",
    "        cost = 5\n",
    "    else:  # express\n",
    "        cost = 10\n",
    "elif weight <= 5:\n",
    "    if speed == \"standard\":\n",
    "        cost = 10\n",
    "    else:  # express\n",
    "        cost = 20\n",
    "else:\n",
    "    if speed == \"standard\":\n",
    "        cost = 15\n",
    "    else:  # express\n",
    "        cost = 30\n",
    "\n",
    "# output the calculated cost\n",
    "print(f\"Shipping cost: ${cost}\")"
   ]
  },
  {
   "cell_type": "markdown",
   "metadata": {},
   "source": [
    "# 3.7 Challenge Hack (2)\n",
    "## Objective\n",
    "In this hack, we determine the validity of a triangle based on user inputted side lengths, and then determine the type of triangle."
   ]
  },
  {
   "cell_type": "code",
   "execution_count": null,
   "metadata": {},
   "outputs": [],
   "source": [
    "# function to determine the type of triangle\n",
    "def determine_triangle_type():\n",
    "    # input the lengths of the sides\n",
    "    side1 = float(input(\"Enter the length of the first side: \"))\n",
    "    side2 = float(input(\"Enter the length of the second side: \"))\n",
    "    side3 = float(input(\"Enter the length of the third side: \"))\n",
    "\n",
    "    # input validation: Check if all sides are positive numbers\n",
    "    if side1 <= 0 or side2 <= 0 or side3 <= 0:\n",
    "        print(\"Error: All side lengths must be positive numbers.\")\n",
    "        return\n",
    "\n",
    "    # check if the sides form a valid triangle using the triangle inequality theorem\n",
    "    if side1 + side2 > side3 and side1 + side3 > side2 and side2 + side3 > side1:\n",
    "        # nested conditionals to classify the triangle type\n",
    "        if side1 == side2 == side3:\n",
    "            print(\"This is an Equilateral Triangle (all sides are equal).\")\n",
    "        elif side1 == side2 or side2 == side3 or side1 == side3:\n",
    "            print(\"This is an Isosceles Triangle (two sides are equal).\")\n",
    "        else:\n",
    "            print(\"This is a Scalene Triangle (no sides are equal).\")\n",
    "    else:\n",
    "        # if the triangle is invalid, display an appropriate message\n",
    "        print(\"Error: The sides do not form a valid triangle.\")\n",
    "\n",
    "# call the function\n",
    "determine_triangle_type()\n",
    "\n",
    "#yay"
   ]
  }
 ],
 "metadata": {
  "kernelspec": {
   "display_name": "Python 3 (ipykernel)",
   "language": "python",
   "name": "python3"
  },
  "language_info": {
   "codemirror_mode": {
    "name": "ipython",
    "version": 3
   },
   "file_extension": ".py",
   "mimetype": "text/x-python",
   "name": "python",
   "nbconvert_exporter": "python",
   "pygments_lexer": "ipython3",
   "version": "3.12.5"
  }
 },
 "nbformat": 4,
 "nbformat_minor": 4
}
