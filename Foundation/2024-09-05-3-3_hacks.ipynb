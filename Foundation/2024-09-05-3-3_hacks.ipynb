{
 "cells": [
  {
   "cell_type": "raw",
   "metadata": {
    "vscode": {
     "languageId": "raw"
    }
   },
   "source": [
    "---\n",
    "toc: true\n",
    "layout: post\n",
    "type: hacks\n",
    "courses: { compsci: {week: 14} }\n",
    "title: 3.10 - Ansh\n",
    "description: Hacks from lesson 3.10\n",
    "---"
   ]
  },
  {
   "cell_type": "markdown",
   "metadata": {},
   "source": [
    "# 3.3 Hack 1\n",
    "## Objective\n",
    "In this hack, we create a function to display the result of the expresion: y = 7(x+4)-6, where x is user inputted."
   ]
  },
  {
   "cell_type": "code",
   "execution_count": 13,
   "metadata": {},
   "outputs": [
    {
     "name": "stdout",
     "output_type": "stream",
     "text": [
      "the boolean is True\n",
      "only boolean1 is True\n"
     ]
    }
   ],
   "source": [
    "def calculate_y():\n",
    "    x = float(input(\"Enter the value of x: \"))\n",
    "    y = 7 * (x + 4) - 6\n",
    "    return y\n",
    "\n",
    "result = calculate_y()\n",
    "print(f\"The value of y is: {result}\")\n"
   ]
  },
  {
   "cell_type": "markdown",
   "metadata": {},
   "source": [
    "# 3.3 Hack 2\n",
    "## Objective\n",
    "In this hack, we predict the output of the function below. My guess is 38."
   ]
  },
  {
   "cell_type": "code",
   "execution_count": 33,
   "metadata": {},
   "outputs": [
    {
     "name": "stdout",
     "output_type": "stream",
     "text": [
      "New calculated number: 38\n"
     ]
    }
   ],
   "source": [
    "number1 = 10\n",
    "number2 = 4\n",
    "number3 = (number1 // number2) + 2\n",
    "number4 = number3 * number2 * 3 - 10\n",
    "print(f\"New calculated number: {number4}\")"
   ]
  },
  {
   "cell_type": "markdown",
   "metadata": {},
   "source": [
    "# 3.3 Hack 3\n",
    "## Objective\n",
    "In this hack, we define a function to check if a string of nums has values divisible by 3, and then check if the remainder is divisible by 3.\n"
   ]
  },
  {
   "cell_type": "code",
   "execution_count": 36,
   "metadata": {},
   "outputs": [
    {
     "name": "stdout",
     "output_type": "stream",
     "text": [
      "10 is not divisible by 3, remainder: 1\n",
      "15 is divisible by 3\n",
      "22 is not divisible by 3, remainder: 1\n",
      "33 is divisible by 3\n",
      "44 is not divisible by 3, remainder: 2\n",
      "51 is divisible by 3\n"
     ]
    }
   ],
   "source": [
    "# function to check divisibility\n",
    "def check_divisibility(numbers):\n",
    "    for number in numbers:\n",
    "        if number % 3 == 0:\n",
    "            print(f\"{number} is divisible by 3\")\n",
    "        else:\n",
    "            remainder = number % 3\n",
    "            print(f\"{number} is not divisible by 3, remainder: {remainder}\")\n",
    "\n",
    "# list of nums\n",
    "numbers_to_test = [10, 15, 22, 33, 44, 51]\n",
    "\n",
    "check_divisibility(numbers_to_test)\n"
   ]
  },
  {
   "cell_type": "markdown",
   "metadata": {},
   "source": [
    "# Homework Hack (w/ challenge)\n",
    "## Objective\n",
    "In this hack, we create a program to determine the value of an inputted number in the fibanacci sequence, and find the area of any shape with all necessary provided information (shape, and all other params necessary for formulas)."
   ]
  },
  {
   "cell_type": "code",
   "execution_count": 38,
   "metadata": {},
   "outputs": [
    {
     "name": "stdout",
     "output_type": "stream",
     "text": [
      "the 4th fibonacci number is 2\n",
      "the area of the circle is 50.27\n",
      "the volume of the sphere is 268.08\n"
     ]
    }
   ],
   "source": [
    "import math\n",
    "\n",
    "# fibonacci calculation using iterationn\n",
    "def fibonacci(n):\n",
    "    if n <= 0:\n",
    "        return \"input should be a positive integer.\"\n",
    "    elif n == 1:\n",
    "        return 0\n",
    "    elif n == 2:\n",
    "        return 1\n",
    "    else:\n",
    "        a, b = 0, 1\n",
    "        for _ in range(2, n):\n",
    "            a, b = b, a + b\n",
    "        return b\n",
    "\n",
    "# calc area based on shape\n",
    "def calculate_area():\n",
    "    shape = input(\"enter the shape (circle, square, rectangle, triangle): \").lower()\n",
    "\n",
    "    if shape == \"circle\":\n",
    "        radius = float(input(\"enter the radius: \"))\n",
    "        area = math.pi * radius**2\n",
    "        return f\"the area of the circle is {area:.2f}\"\n",
    "\n",
    "    elif shape == \"square\":\n",
    "        side = float(input(\"enter the side length: \"))\n",
    "        area = side**2\n",
    "        return f\"the area of the square is {area:.2f}\"\n",
    "\n",
    "    elif shape == \"rectangle\":\n",
    "        length = float(input(\"enter the length: \"))\n",
    "        width = float(input(\"enter the width: \"))\n",
    "        area = length * width\n",
    "        return f\"the area of the rectangle is {area:.2f}\"\n",
    "\n",
    "    elif shape == \"triangle\":\n",
    "        base = float(input(\"enter the base length: \"))\n",
    "        height = float(input(\"enter the height: \"))\n",
    "        area = 0.5 * base * height\n",
    "        return f\"the area of the triangle is {area:.2f}\"\n",
    "\n",
    "    else:\n",
    "        return \"unknown shape...\"\n",
    "\n",
    "# calc volume based on shape (chall)\n",
    "def calculate_volume():\n",
    "    solid = input(\"enter the solid (rectangular prism, sphere, pyramid): \").lower()\n",
    "\n",
    "    if solid == \"rectangular prism\":\n",
    "        length = float(input(\"enter the length: \"))\n",
    "        width = float(input(\"enter the width: \"))\n",
    "        height = float(input(\"enter the height: \"))\n",
    "        volume = length * width * height\n",
    "        return f\"the volume of the rectangular prism is {volume:.2f}\"\n",
    "\n",
    "    elif solid == \"sphere\":\n",
    "        radius = float(input(\"enter the radius: \"))\n",
    "        volume = (4 / 3) * math.pi * radius**3\n",
    "        return f\"the volume of the sphere is {volume:.2f}\"\n",
    "\n",
    "    elif solid == \"pyramid\":\n",
    "        base_length = float(input(\"enter the base length: \"))\n",
    "        width = float(input(\"enter the width: \"))\n",
    "        height = float(input(\"enter the height: \"))\n",
    "        volume = (1 / 3) * base_length * width * height\n",
    "        return f\"the volume of the pyramid is {volume:.2f}\"\n",
    "\n",
    "    else:\n",
    "        return \"unknown solid...\"\n",
    "\n",
    "# example usage\n",
    "\n",
    "# fib calculation\n",
    "n = int(input(\"enter the term in the Fibonacci sequence: \"))\n",
    "print(f\"the {n}th fibonacci number is {fibonacci(n)}\")\n",
    "\n",
    "# area calculation\n",
    "print(calculate_area())\n",
    "\n",
    "# volume calculation\n",
    "print(calculate_volume())"
   ]
  }
 ],
 "metadata": {
  "kernelspec": {
   "display_name": "Python 3 (ipykernel)",
   "language": "python",
   "name": "python3"
  },
  "language_info": {
   "codemirror_mode": {
    "name": "ipython",
    "version": 3
   },
   "file_extension": ".py",
   "mimetype": "text/x-python",
   "name": "python",
   "nbconvert_exporter": "python",
   "pygments_lexer": "ipython3",
   "version": "3.12.5"
  }
 },
 "nbformat": 4,
 "nbformat_minor": 4
}
