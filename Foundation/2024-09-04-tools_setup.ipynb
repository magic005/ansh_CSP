{
 "cells": [
  {
   "cell_type": "raw",
   "metadata": {
    "vscode": {
     "languageId": "raw"
    }
   },
   "source": [
    "---\n",
    "toc: true\n",
    "layout: post\n",
    "type: hacks\n",
    "courses: { compsci: {week: 14} }\n",
    "title: Tools Setup - Ansh\n",
    "description: Blog of How I got the Tools Setup to Work\n",
    "---"
   ]
  },
  {
   "cell_type": "markdown",
   "metadata": {},
   "source": [
    "## Remember Forever Quiz\n",
    "In this quiz, I removed the nighthawk directory from the home directory and then recreated it, launching my own blog again on localhost.\n",
    "\n",
    "## Step 1: Remove Nighthawk Directory\n",
    "To remove the directory, to get started with the quiz, you first have to run ``rm -rf nighthawk``.\n",
    "\n",
    "**![](https://lh7-rt.googleusercontent.com/docsz/AD_4nXfcI2RhN9K93oei08PaBdAL1A4ZmqisJZUNVtM-4qNfnBKy1l--9IBoSnRmGVMTl5iRyRX7E_9CvLJMbadj7ZTJh0p4fTcM7uav99Ty2T0CDSF0IRr6EpBC8Vf1DbjEvGnlE0cqYjjCsf2sFmRAqF7iKsZq?key=foTcVPHXiq48D7DaB0EDRA)**\n",
    "\n",
    "Now, our nighthawk directory where our code originally was is deleted.\n",
    "\n",
    "## Step 2: Making a new directory\n",
    "Now, we need to make a new, fresh nighthawk directory to store our student and portfolio repositories. We do this by running the following commands:\n",
    "\n",
    "```\n",
    "mkdir nighthawk\n",
    "cd nighthawk\n",
    "```\n",
    "Then, once we're in the directory, we can clone our student and Mr. Mortensens portfolio repository.\n",
    "\n",
    "```\n",
    "git clone https://github.com/Hypernova101/MihirCSP.git\n",
    "git clone https://github.com/nighthawkcoders/portfolio_2025.git\n",
    "```\n",
    "\n",
    "Now, to access my code, I need to run the following command:\n",
    "``\n",
    "code MihirCSP\n",
    "``\n",
    "\n",
    "\n",
    "## Step 3: Opening Virtual Environment and Deploying\n",
    "\n",
    "To open the virtual environment, we run the command ``source venv/bin/activate``.\n",
    "\n",
    "**!![](https://lh7-rt.googleusercontent.com/docsz/AD_4nXf0Y69uFWxdA-S7bQiKGLsR3CHN1FcQgJGfdstJjIDKas1_ZHytalGaton6L_bbCepPTAX_c8g-hKiZJAzMoD1gRhjmdMBNDvtKcSMKMR-RlK_mdJJNuJXZ3My50hh_6bYWN_AnAakHLdwKQD7SfmPAn3gD?key=LQ3uYB4B-oHtlaYWFQ9fsQ)**\n",
    "\n",
    "Now, we can run the ``make`` command to open our blog on localhost. Here, live changes are reflected, and once we're happy, we can push it to GitHub.\n",
    "\n",
    "**![](https://lh7-rt.googleusercontent.com/docsz/AD_4nXfnk9qzdfOV9NdmsRE2DiL5EKCThw749ruK0GPZau23ezCgGB1Ji1b4HENU6GIZadLGzfl2R4KKS9EAi3mvUPfI6l68BzL6FZXAfsuJEAA5q9tO6VFLqZ7XctafJoecaZbF8Mul7CHGMzuwM3xD-x5fEMMN?key=LQ3uYB4B-oHtlaYWFQ9fsQ)**\n",
    "\n",
    "This is how localhost looks like on my student repository:\n",
    "**![](https://lh7-rt.googleusercontent.com/docsz/AD_4nXcYiI6edu_VOOSAk9v6rZoPPCXVeEjtBppqoi577ipbdAgjjOOvcQNdna9YWbt5iLQnGscmN5WY3jgJqXXC2RQHHIku3lg9lr01cG1uBqCw8HomWjE5EvvzTsC0f_5R-0bU6jydfw1U57pAyjBjBR9q-Un7?key=LQ3uYB4B-oHtlaYWFQ9fsQ)**\n",
    "\n",
    "And this is how localhost looks like on the portfolio repository.\n",
    "**![](https://lh7-rt.googleusercontent.com/docsz/AD_4nXfZiYDAV1Q_2iw-uMeQnwfIptomHNVR3emkcYEmow8tUAI468wmpcwnstkQKaX6BrCxhu9_NRnBab95vcH0DXPKaAFVIF_nIIVIfduSiRzewqmNmo4bw6aMBayGsVGSXzXd_-iAK-pVLGFnX84Rhau3bhIu?key=NON7Zirbf-lbc7coQRPiBA)**\n",
    "\n",
    "Now, all we have to do is push our code to GitHub to save, and we're done!\n",
    "\n",
    "**![](https://lh7-rt.googleusercontent.com/docsz/AD_4nXfU2NsDQqtmKli0Z2oBmmE9YR0A_TfG1JfmMA-J-LUW4fjz7p8DcRT-BXTPpECpZskwqr4-cuPAJSIms1aV79zmMuD-uX0chzO_i-tr_1GcE1xLO9f71AuWzdBSQj4-rwHq_onZShYqEODfID8jIN_bnrtg?key=NON7Zirbf-lbc7coQRPiBA)**"
   ]
  },
  {
   "cell_type": "markdown",
   "metadata": {},
   "source": []
  }
 ],
 "metadata": {
  "kernelspec": {
   "display_name": "Python 3",
   "language": "python",
   "name": "python3"
  },
  "language_info": {
   "codemirror_mode": {
    "name": "ipython",
    "version": 3
   },
   "file_extension": ".py",
   "mimetype": "text/x-python",
   "name": "python",
   "nbconvert_exporter": "python",
   "pygments_lexer": "ipython3",
   "version": "3.10.12"
  }
 },
 "nbformat": 4,
 "nbformat_minor": 2
}
