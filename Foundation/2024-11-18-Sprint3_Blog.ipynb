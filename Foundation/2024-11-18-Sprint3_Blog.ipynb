{
 "cells": [
  {
   "cell_type": "raw",
   "metadata": {
    "vscode": {
     "languageId": "raw"
    }
   },
   "source": [
    "---\n",
    "toc: true\n",
    "layout: post\n",
    "type: issues\n",
    "courses: { compsci: {week: 14} }\n",
    "title: Sprint 3 Blog - Ansh\n",
    "description: My reflection on Sprint 3 from trimester 1\n",
    "---"
   ]
  },
  {
   "cell_type": "markdown",
   "metadata": {},
   "source": [
    "# My Learnings\n",
    "\n",
    "Throughout the sprint, I learned more about how front ends are integrated with backends for seemless user experience and storage of information in databases, and I also learned about elements of UI design and UX.\n",
    "\n",
    "I was able to conceptually understand how the front end and back ends work, as well as gained the knowledge needed to impliment a genuine, relevant social media site with real-world application\n",
    "\n",
    "Thus, the accomplishment I am most proud of is understanding how to create a running backend on our site, meaning our front-end could successfully communicate with the backend."
   ]
  },
  {
   "cell_type": "markdown",
   "metadata": {},
   "source": [
    "# What is AGK? \n",
    "\n",
    "AGK is a flocker platform meant for dedicated students to explore extracurricular opportunities within our school. This includes clubs, competitions, volunteering, and anything else a student could dream of.\n",
    "\n",
    "We came up with this because we found that while a lot of ambitious students want to do things outsidde of acedemics, it often becomes hard fgor them to find things that they'd genuinely be interested in, and we wanted a solution that made such accessible to all. \n",
    "\n",
    "**Thus, we were able to impliment a genuine solution to a real problem with our knowledge and learning throughout the sprint.**\n",
    "\n",
    "Plan for the sprint is located here: https://github.com/nighthawkcoders/flocker_frontend/issues/1"
   ]
  },
  {
   "cell_type": "markdown",
   "metadata": {},
   "source": [
    "# How\n",
    "\n",
    "## Plan\n",
    "\n",
    "For my group, I helped plan out how our backend will interact with the frontend using a flowchart, in compliance with the flowchart formatting used by College Board.\n",
    "\n",
    "<img src=\"{{site.baseurl}}/images/flowchart_s3.png\">\n",
    "\n",
    "## \"Fetch\"\n",
    "\n",
    "A fetch is the process of retreieving data from a source, such as a database or the internet. In our case, we need to query information from the backend database, so on our frontend we inlcude a javascript script that does exactly that.\n",
    "\n",
    "These program is located on the MD file for our project."
   ]
  },
  {
   "cell_type": "markdown",
   "metadata": {},
   "source": [
    "This program fetches the groups stored in the DB, which is then displayed in a dropdown on our site."
   ]
  },
  {
   "cell_type": "code",
   "execution_count": null,
   "metadata": {
    "vscode": {
     "languageId": "javascript"
    }
   },
   "outputs": [],
   "source": [
    "/**\n",
    "     * Fetch groups for dropdown selection\n",
    "     * User picks from dropdown\n",
    "     */\n",
    "    async function fetchGroups() {\n",
    "        try {\n",
    "            const response = await fetch(`${pythonURI}/api/groups/filter`, {\n",
    "                ...fetchOptions,\n",
    "                method: 'POST',\n",
    "                headers: {\n",
    "                    'Content-Type': 'application/json'\n",
    "                },\n",
    "                body: JSON.stringify({ section_name: \"Shared Interest\" }) // Adjust the section name as needed\n",
    "            });\n",
    "            if (!response.ok) {\n",
    "                throw new Error('Failed to fetch groups: ' + response.statusText);\n",
    "            }\n",
    "            const groups = await response.json();\n",
    "            const groupSelect = document.getElementById('group_id');\n",
    "            groups.forEach(group => {\n",
    "                const option = document.createElement('option');\n",
    "                option.value = group.name; // Use group name for payload\n",
    "                option.textContent = group.name;\n",
    "                groupSelect.appendChild(option);\n",
    "            });\n",
    "        } catch (error) {\n",
    "            console.error('Error fetching groups:', error);\n",
    "        }\n",
    "    }"
   ]
  },
  {
   "cell_type": "markdown",
   "metadata": {},
   "source": [
    "To go more in depth, we decided that we could add channels for our seperate clubs, which includes the Robots channel and Cyber Patriot channel.\n",
    "\n",
    "The following code is from the same, agk.md"
   ]
  },
  {
   "cell_type": "code",
   "execution_count": null,
   "metadata": {
    "vscode": {
     "languageId": "javascript"
    }
   },
   "outputs": [],
   "source": [
    "async function fetchChannels(groupName) {\n",
    "        try {\n",
    "            const response = await fetch(`${pythonURI}/api/channels/filter`, {\n",
    "                ...fetchOptions,\n",
    "                method: 'POST',\n",
    "                headers: {\n",
    "                    'Content-Type': 'application/json'\n",
    "                },\n",
    "                body: JSON.stringify({ group_name: groupName })\n",
    "            });\n",
    "            if (!response.ok) {\n",
    "                throw new Error('Failed to fetch channels: ' + response.statusText);\n",
    "            }\n",
    "            const channels = await response.json();\n",
    "            const channelSelect = document.getElementById('channel_id');\n",
    "            channelSelect.innerHTML = '<option value=\"\">Select a channel</option>'; // Reset channels\n",
    "            channels.forEach(channel => {\n",
    "                const option = document.createElement('option');\n",
    "                option.value = channel.id;\n",
    "                option.textContent = channel.name;\n",
    "                channelSelect.appendChild(option);\n",
    "            });\n",
    "        } catch (error) {\n",
    "            console.error('Error fetching channels:', error);\n",
    "        }\n",
    "    }"
   ]
  },
  {
   "cell_type": "markdown",
   "metadata": {},
   "source": [
    "The channels exist on the background repo, in the following lines of code located on \"channel.py\""
   ]
  },
  {
   "cell_type": "code",
   "execution_count": null,
   "metadata": {},
   "outputs": [],
   "source": [
    "shared_interest_channels = [\n",
    "    Channel(name='Penpal Letters', group_id=limitless_connection.id),\n",
    "    Channel(name='Game vs Poway', group_id=dnhs_football.id),\n",
    "    Channel(name='Game vs Westview', group_id=dnhs_football.id),\n",
    "    Channel(name='Math', group_id=school_subjects.id),\n",
    "    Channel(name='English', group_id=school_subjects.id),\n",
    "    Channel(name='Artist', group_id=music.id),\n",
    "    Channel(name='Music Genre', group_id=music.id),\n",
    "    Channel(name='Humor', group_id=satire.id),\n",
    "    Channel(name='Memes', group_id=satire.id),\n",
    "    Channel(name='Irony', group_id=satire.id),\n",
    "    Channel(name='Cyber Patriots', group_id=activity_hub.id),\n",
    "    Channel(name='Robotics', group_id=activity_hub.id)\n",
    "]"
   ]
  },
  {
   "cell_type": "markdown",
   "metadata": {},
   "source": [
    "## How it appears on frontend\n",
    "\n",
    "<img src=\"{{site.baseurl}}/images/groups.png\">\n",
    "<img src=\"{{site.baseurl}}/images/channels.png\">"
   ]
  }
 ],
 "metadata": {
  "kernelspec": {
   "display_name": "Python 3 (ipykernel)",
   "language": "python",
   "name": "python3"
  },
  "language_info": {
   "codemirror_mode": {
    "name": "ipython",
    "version": 3
   },
   "file_extension": ".py",
   "mimetype": "text/x-python",
   "name": "python",
   "nbconvert_exporter": "python",
   "pygments_lexer": "ipython3",
   "version": "3.12.5"
  }
 },
 "nbformat": 4,
 "nbformat_minor": 4
}
