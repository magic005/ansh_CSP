{
 "cells": [
  {
   "cell_type": "raw",
   "metadata": {
    "vscode": {
     "languageId": "raw"
    }
   },
   "source": [
    "---\n",
    "toc: true\n",
    "layout: post\n",
    "type: hacks\n",
    "courses: { compsci: {week: 14} }\n",
    "title: Emoji Hack - Ansh\n",
    "description: Blog of using Emojis\n",
    "---"
   ]
  },
  {
   "cell_type": "markdown",
   "metadata": {},
   "source": []
  },
  {
   "cell_type": "code",
   "execution_count": 6,
   "metadata": {},
   "outputs": [
    {
     "ename": "ModuleNotFoundError",
     "evalue": "No module named 'emoji'",
     "output_type": "error",
     "traceback": [
      "\u001b[0;31m---------------------------------------------------------------------------\u001b[0m",
      "\u001b[0;31mModuleNotFoundError\u001b[0m                       Traceback (most recent call last)",
      "Cell \u001b[0;32mIn[6], line 1\u001b[0m\n\u001b[0;32m----> 1\u001b[0m \u001b[38;5;28;01mimport\u001b[39;00m \u001b[38;5;21;01memoji\u001b[39;00m\n\u001b[1;32m      2\u001b[0m \u001b[38;5;28;01mfrom\u001b[39;00m \u001b[38;5;21;01memoji\u001b[39;00m \u001b[38;5;28;01mimport\u001b[39;00m emojize \n\u001b[1;32m      3\u001b[0m \u001b[38;5;28mprint\u001b[39m(emojize(\u001b[38;5;124m\"\u001b[39m\u001b[38;5;124m:thumbs_up: Liverpool Football Club is the best soccer team in the world. :grinning_face:\u001b[39m\u001b[38;5;124m\"\u001b[39m))\n",
      "\u001b[0;31mModuleNotFoundError\u001b[0m: No module named 'emoji'"
     ]
    }
   ],
   "source": [
    "import emoji\n",
    "from emoji import emojize \n",
    "print(emojize(\":thumbs_up: Liverpool Football Club is the best soccer team in the world. :grinning_face:\"))\n",
    "\n",
    "print(\"\")\n",
    "print(emojize(\"Manchester United is one of the most iconic football clubs in the world! :soccer_ball::red_circle:\"))\n",
    "print(emojize(\"Known for their global fan base and the legendary Old Trafford :stadium:\"))\n",
    "print(emojize(\"They've won numerous Premier League :trophy: and Champions League titles :globe_showing_Europe-Africa:\"))\n",
    "print(emojize(\"Legends like Sir Alex Ferguson, Ryan Giggs, and Cristiano Ronaldo have graced the pitch :star:\"))\n",
    "print(emojize(\"With a legacy of winning and a fierce rivalry with Liverpool :face_with_symbols_on_mouth:\"))\n",
    "print(emojize(\"Glory, Glory Man United! :musical_note::fire: It's a way of life for the Red Devils!!\"))"
   ]
  },
  {
   "cell_type": "markdown",
   "metadata": {},
   "source": [
    "<h6>To Learn More Information About Manchester United Football Club,</h6>\n",
    "<a href=\"https://www.manutd.com/\">\n",
    "  <button>Click Here</button>\n",
    "</a>"
   ]
  },
  {
   "cell_type": "code",
   "execution_count": 3,
   "metadata": {},
   "outputs": [
    {
     "ename": "ModuleNotFoundError",
     "evalue": "No module named 'newspaper'",
     "output_type": "error",
     "traceback": [
      "\u001b[0;31m---------------------------------------------------------------------------\u001b[0m",
      "\u001b[0;31mModuleNotFoundError\u001b[0m                       Traceback (most recent call last)",
      "Cell \u001b[0;32mIn[3], line 1\u001b[0m\n\u001b[0;32m----> 1\u001b[0m \u001b[38;5;28;01mfrom\u001b[39;00m \u001b[38;5;21;01mnewspaper\u001b[39;00m \u001b[38;5;28;01mimport\u001b[39;00m Article\n\u001b[1;32m      2\u001b[0m \u001b[38;5;28;01mfrom\u001b[39;00m \u001b[38;5;21;01mIPython\u001b[39;00m\u001b[38;5;21;01m.\u001b[39;00m\u001b[38;5;21;01mdisplay\u001b[39;00m \u001b[38;5;28;01mimport\u001b[39;00m display, Markdown\n\u001b[1;32m      5\u001b[0m urls \u001b[38;5;241m=\u001b[39m [\u001b[38;5;124m\"\u001b[39m\u001b[38;5;124mhttp://cnn.com/2023/03/29/entertainment/the-mandalorian-episode-5-recap/index.html\u001b[39m\u001b[38;5;124m\"\u001b[39m, \n\u001b[1;32m      6\u001b[0m         \u001b[38;5;124m\"\u001b[39m\u001b[38;5;124mhttps://www.cnn.com/2023/06/09/entertainment/jurassic-park-anniversary/index.html\u001b[39m\u001b[38;5;124m\"\u001b[39m]\n",
      "\u001b[0;31mModuleNotFoundError\u001b[0m: No module named 'newspaper'"
     ]
    }
   ],
   "source": [
    "from newspaper import Article\n",
    "from IPython.display import display, Markdown\n",
    "\n",
    "\n",
    "urls = [\"http://cnn.com/2023/03/29/entertainment/the-mandalorian-episode-5-recap/index.html\", \n",
    "        \"https://www.cnn.com/2023/06/09/entertainment/jurassic-park-anniversary/index.html\"]\n",
    "\n",
    "for url in urls:\n",
    "    article = Article(url)\n",
    "    article.download()\n",
    "    article.parse()\n",
    "    # Jupyter Notebook Display\n",
    "    # print(article.title)\n",
    "    display(Markdown(article.title)) # Jupyter display only\n",
    "    display(Markdown(article.text)) # Jupyter display only\n",
    "    print(\"\\n\")\n"
   ]
  },
  {
   "cell_type": "code",
   "execution_count": 4,
   "metadata": {},
   "outputs": [
    {
     "ename": "ModuleNotFoundError",
     "evalue": "No module named 'wikipedia'",
     "output_type": "error",
     "traceback": [
      "\u001b[0;31m---------------------------------------------------------------------------\u001b[0m",
      "\u001b[0;31mModuleNotFoundError\u001b[0m                       Traceback (most recent call last)",
      "Cell \u001b[0;32mIn[4], line 1\u001b[0m\n\u001b[0;32m----> 1\u001b[0m \u001b[38;5;28;01mimport\u001b[39;00m \u001b[38;5;21;01mwikipedia\u001b[39;00m \n\u001b[1;32m      2\u001b[0m \u001b[38;5;28;01mfrom\u001b[39;00m \u001b[38;5;21;01mIPython\u001b[39;00m\u001b[38;5;21;01m.\u001b[39;00m\u001b[38;5;21;01mdisplay\u001b[39;00m \u001b[38;5;28;01mimport\u001b[39;00m display, Markdown \u001b[38;5;66;03m# add for Jupyter\u001b[39;00m\n\u001b[1;32m      4\u001b[0m terms \u001b[38;5;241m=\u001b[39m [\u001b[38;5;124m\"\u001b[39m\u001b[38;5;124mPython (programming language)\u001b[39m\u001b[38;5;124m\"\u001b[39m, \u001b[38;5;124m\"\u001b[39m\u001b[38;5;124mJavaScript\u001b[39m\u001b[38;5;124m\"\u001b[39m]\n",
      "\u001b[0;31mModuleNotFoundError\u001b[0m: No module named 'wikipedia'"
     ]
    }
   ],
   "source": [
    "import wikipedia \n",
    "from IPython.display import display, Markdown # add for Jupyter\n",
    "\n",
    "terms = [\"Python (programming language)\", \"JavaScript\"]\n",
    "for term in terms:\n",
    "    # Search for a page \n",
    "    result = wikipedia.search(term)\n",
    "    # Get the summary of the first result\n",
    "    summary = wikipedia.summary(result[0])\n",
    "    print(term) \n",
    "    # print(summary) # console display\n",
    "    display(Markdown(summary)) # Jupyter display"
   ]
  },
  {
   "cell_type": "code",
   "execution_count": null,
   "metadata": {},
   "outputs": [],
   "source": [
    "import inspect \n",
    "from newspaper import Article\n",
    "\n",
    "# inspect newspaper Article function\n",
    "print(inspect.getsource(Article))"
   ]
  },
  {
   "cell_type": "code",
   "execution_count": 5,
   "metadata": {},
   "outputs": [
    {
     "name": "stdout",
     "output_type": "stream",
     "text": [
      "Print test data: 100\n",
      "Mean of single number: 100\n",
      "\n",
      "Print test data: [90.5, 100, 85.4, 88]\n",
      "Average score, loop method: 90.98\n",
      "Average score, function method: 90.98\n",
      "\n",
      "Print test data: [100, 'NaN', 90]\n",
      "Bad data: NaN in [100, 'NaN', 90]\n"
     ]
    },
    {
     "ename": "SystemExit",
     "evalue": "",
     "output_type": "error",
     "traceback": [
      "An exception has occurred, use %tb to see the full traceback.\n",
      "\u001b[0;31mSystemExit\u001b[0m\n"
     ]
    },
    {
     "name": "stderr",
     "output_type": "stream",
     "text": [
      "/Users/anshk/Library/Python/3.12/lib/python/site-packages/IPython/core/interactiveshell.py:3585: UserWarning: To exit: use 'exit', 'quit', or Ctrl-D.\n",
      "  warn(\"To exit: use 'exit', 'quit', or Ctrl-D.\", stacklevel=1)\n"
     ]
    }
   ],
   "source": [
    "import sys\n",
    "from typing import Union\n",
    "\n",
    "# Define types for mean function, trying to analyze input possibilities\n",
    "Number = Union[int, float]  # Number can be either int or float type\n",
    "Numbers = list[Number] # Numbers is a list of Number types\n",
    "Scores = Union[Number, Numbers] # Scores can be single or multiple \n",
    "\n",
    "def mean(scores: Scores, method: int = 1) -> float:\n",
    "    \"\"\"\n",
    "    Calculate the mean of a list of scores.\n",
    "    \n",
    "    Average and Average2 are hidden functions performing mean algorithm\n",
    "\n",
    "    If a single score is provided in scores, it is returned as the mean.\n",
    "    If a list of scores is provided, the average is calculated and returned.\n",
    "    \"\"\"\n",
    "    \n",
    "    def average(scores): \n",
    "        \"\"\"Calculate the average of a list of scores using a Python for loop with rounding.\"\"\"\n",
    "        sum = 0\n",
    "        len = 0\n",
    "        for score in scores:\n",
    "            if isinstance(score, Number):\n",
    "                sum += score\n",
    "                len += 1\n",
    "            else:\n",
    "                print(\"Bad data: \" + str(score) + \" in \" + str(scores))\n",
    "                sys.exit()\n",
    "        return sum / len\n",
    "    \n",
    "    def average2(scores):\n",
    "        \"\"\"Calculate the average of a list of scores using the built-in sum() function with rounding.\"\"\"\n",
    "        return sum(scores) / len(scores)\n",
    "\n",
    "    # test to see if scores is  a list of numbers\n",
    "    if isinstance(scores, list):\n",
    "        if method == 1:  \n",
    "            # long method\n",
    "            result = average(scores)\n",
    "        else:\n",
    "            # built in method\n",
    "            result = average2(scores)\n",
    "        return round(result + 0.005, 2)\n",
    "    \n",
    "    return scores # case where scores is a single valu\n",
    "\n",
    "# try with one number\n",
    "singleScore = 100\n",
    "print(\"Print test data: \" + str(singleScore))  # concat data for single line\n",
    "print(\"Mean of single number: \" + str(mean(singleScore)))\n",
    "\n",
    "print()\n",
    "\n",
    "# define a list of numbers\n",
    "testScores = [90.5, 100, 85.4, 88]\n",
    "print(\"Print test data: \" + str(testScores))\n",
    "print(\"Average score, loop method: \" + str(mean(testScores)))\n",
    "print(\"Average score, function method: \" +  str(mean(testScores, 2)))\n",
    "\n",
    "print()\n",
    "\n",
    "badData = [100, \"NaN\", 90]\n",
    "print(\"Print test data: \" + str(badData))\n",
    "print(\"Mean with bad data: \" + str(mean(badData)))\n"
   ]
  }
 ],
 "metadata": {
  "kernelspec": {
   "display_name": "Python 3",
   "language": "python",
   "name": "python3"
  },
  "language_info": {
   "codemirror_mode": {
    "name": "ipython",
    "version": 3
   },
   "file_extension": ".py",
   "mimetype": "text/x-python",
   "name": "python",
   "nbconvert_exporter": "python",
   "pygments_lexer": "ipython3",
   "version": "3.12.5"
  }
 },
 "nbformat": 4,
 "nbformat_minor": 2
}
