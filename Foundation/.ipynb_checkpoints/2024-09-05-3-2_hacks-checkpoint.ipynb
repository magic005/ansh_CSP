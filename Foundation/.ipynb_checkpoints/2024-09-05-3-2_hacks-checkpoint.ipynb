{
 "cells": [
  {
   "cell_type": "raw",
   "metadata": {
    "vscode": {
     "languageId": "raw"
    }
   },
   "source": [
    "---\n",
    "toc: true\n",
    "layout: post\n",
    "type: hacks\n",
    "courses: { compsci: {week: 14} }\n",
    "title: 3.2 Popcorn - Ansh\n",
    "description: Popcorn hacks from the 3.2 lesson\n",
    "---"
   ]
  },
  {
   "cell_type": "markdown",
   "metadata": {},
   "source": [
    "# 3.2 Popcorn Hack 1\n",
    "## Objective\n",
    "In this hack, we create a list applicable to our blogs from Sprint 1 (mine is a <span href=\"../liverpool-fc/index.html\">Manchester United FC blog</span> page)"
   ]
  },
  {
   "cell_type": "code",
   "execution_count": 1,
   "metadata": {},
   "outputs": [
    {
     "name": "stdout",
     "output_type": "stream",
     "text": [
      "\n",
      "Forwards:\n",
      " - Marcus Rashford\n",
      " - Rasmus Højlund\n",
      " - Anthony Martial\n",
      "\n",
      "Midfielders:\n",
      " - Bruno Fernandes\n",
      " - Christian Eriksen\n",
      " - Casemiro\n",
      "\n",
      "Defenders:\n",
      " - Raphaël Varane\n",
      " - Lisandro Martínez\n",
      " - Luke Shaw\n",
      "\n",
      "Goalkeepers:\n",
      " - André Onana\n",
      " - Tom Heaton\n"
     ]
    }
   ],
   "source": [
    "# define a dictionary with Manchester United players categorized by position\n",
    "man_utd_players = {\n",
    "    \"Forwards\": [\"Marcus Rashford\", \"Rasmus Højlund\", \"Anthony Martial\"],\n",
    "    \"Midfielders\": [\"Bruno Fernandes\", \"Christian Eriksen\", \"Casemiro\"],\n",
    "    \"Defenders\": [\"Raphaël Varane\", \"Lisandro Martínez\", \"Luke Shaw\"],\n",
    "    \"Goalkeepers\": [\"André Onana\", \"Tom Heaton\"]\n",
    "}\n",
    "\n",
    "# function to print the list of players by position\n",
    "def print_players(players):\n",
    "    for position, names in players.items():\n",
    "        print(f\"\\n{position}:\")\n",
    "        for player in names:\n",
    "            print(f\" - {player}\")\n",
    "\n",
    "# call the function to display players\n",
    "print_players(man_utd_players)\n",
    "\n",
    "# yay"
   ]
  },
  {
   "cell_type": "markdown",
   "metadata": {},
   "source": [
    "<h6>To Learn More Information About Manchester United Football Club,</h6>\n",
    "<a href=\"https://www.manutd.com/\">\n",
    "  <button>Click Here</button>\n",
    "</a>"
   ]
  },
  {
   "cell_type": "markdown",
   "metadata": {},
   "source": [
    "# 3.2 Popcorn Hack 2\n",
    "## Objective\n",
    "In this hack, we create a dictionary containing the contents/details of each sprint, including serveral parameters."
   ]
  },
  {
   "cell_type": "code",
   "execution_count": 3,
   "metadata": {},
   "outputs": [
    {
     "name": "stdout",
     "output_type": "stream",
     "text": [
      "\n",
      "Sprint1:\n",
      " - Tasks: Frontend Development, Github Pages Setup, JavaScript Refactor\n",
      " - Members: Ansh, Derek, Mihir, Pradyun\n",
      " - Duration: 2 weeks\n",
      "\n",
      "'Frontend Development' is part of Sprint1.\n",
      "\n",
      "Sprint2:\n",
      " - Tasks: Big Ideas 3.1, Big Ideas 3.2, Big Ideas 3.3, Big Ideas 3.4, Big Ideas 3.5, Big Ideas 3.6, Big Ideas 3.7, Big Ideas 3.8, Big Ideas 3.9, Big Ideas 3.10\n",
      " - Members: Ansh, Derek, Mihir, Pradyun\n",
      " - Duration: 1 week\n"
     ]
    }
   ],
   "source": [
    "# define a dictionary with sprints, their tasks, group members, and durations\n",
    "sprints = {\n",
    "    'Sprint1': {\n",
    "        'tasks': ['Frontend Development', 'Github Pages Setup', 'JavaScript Refactor'],\n",
    "        'members': ['Ansh', 'Derek', 'Mihir', 'Pradyun'],\n",
    "        'duration': '2 weeks'\n",
    "    },\n",
    "    'Sprint2': {\n",
    "        'tasks': [f'Big Ideas 3.{i}' for i in range(1, 11)],\n",
    "        'members': ['Ansh', 'Derek', 'Mihir', 'Pradyun'],\n",
    "        'duration': '1 week'\n",
    "    }\n",
    "}\n",
    "\n",
    "# dunction to print sprint details\n",
    "def print_sprint_details(sprint_name):\n",
    "    sprint = sprints[sprint_name]\n",
    "    print(f\"\\n{sprint_name}:\")\n",
    "    print(f\" - Tasks: {', '.join(sprint['tasks'])}\")\n",
    "    print(f\" - Members: {', '.join(sprint['members'])}\")\n",
    "    print(f\" - Duration: {sprint['duration']}\")\n",
    "\n",
    "# check if a specific task exists in Sprint1\n",
    "task_to_check = 'Frontend Development'\n",
    "print_sprint_details('Sprint1')\n",
    "if task_to_check in sprints['Sprint1']['tasks']:\n",
    "    print(f\"\\n'{task_to_check}' is part of Sprint1.\")\n",
    "else:\n",
    "    print(f\"\\n'{task_to_check}' is not part of Sprint1.\")\n",
    "\n",
    "# call to display Sprint2 details\n",
    "print_sprint_details('Sprint2')"
   ]
  },
  {
   "cell_type": "markdown",
   "metadata": {},
   "source": [
    "# 3.2 Popcorn Hack 3\n",
    "## Objective\n",
    "In this hack, we create a system of lists and libraries to represent a real life collection of data."
   ]
  },
  {
   "cell_type": "code",
   "execution_count": 6,
   "metadata": {},
   "outputs": [
    {
     "name": "stdout",
     "output_type": "stream",
     "text": [
      "Title: Inception\n",
      "Director: Christopher Nolan\n",
      "Release Year: 2010\n",
      "Genre: Sci-Fi\n",
      "Copies Available: 3\n",
      "Rental Price: $4.99\n",
      "Rental History:\n",
      " - John Doe (Rented on: 2024-10-01, Returned on: 2024-10-07)\n",
      " - Emily Clark (Rented on: 2024-10-05, Returned on: 2024-10-12)\n",
      "\n",
      "\n",
      "Title: The Godfather\n",
      "Director: Francis Ford Coppola\n",
      "Release Year: 1972\n",
      "Genre: Crime\n",
      "Copies Available: 2\n",
      "Rental Price: $3.99\n",
      "Rental History:\n",
      " - Michael Scott (Rented on: 2024-09-28, Returned on: 2024-10-03)\n",
      " - Jim Halpert (Rented on: 2024-10-02, Returned on: 2024-10-09)\n",
      "\n",
      "\n",
      "Title: The Matrix\n",
      "Director: Lana Wachowski, Lilly Wachowski\n",
      "Release Year: 1999\n",
      "Genre: Action\n",
      "Copies Available: 1\n",
      "Rental Price: $5.49\n",
      "Rental History:\n",
      " - Dwight Schrute (Rented on: 2024-09-30, Returned on: 2024-10-06)\n",
      " - Pam Beesly (Rented on: 2024-10-03, Returned on: 2024-10-10)\n",
      "\n",
      "\n",
      "Title: Parasite\n",
      "Director: Bong Joon-ho\n",
      "Release Year: 2019\n",
      "Genre: Thriller\n",
      "Copies Available: 4\n",
      "Rental Price: $6.99\n",
      "Rental History:\n",
      " - Stanley Hudson (Rented on: 2024-10-02, Returned on: 2024-10-09)\n",
      " - Kevin Malone (Rented on: 2024-10-04, Returned on: 2024-10-11)\n",
      " - Angela Martin (Rented on: 2024-10-05, Returned on: 2024-10-12)\n",
      "\n",
      "\n"
     ]
    }
   ],
   "source": [
    "# list of dictionaries representing movies in a rental store\n",
    "movie_rentals = [\n",
    "    {\n",
    "        \"title\": \"Inception\",\n",
    "        \"director\": \"Christopher Nolan\",\n",
    "        \"release_year\": 2010,\n",
    "        \"genre\": \"Sci-Fi\",\n",
    "        \"copies_available\": 3,\n",
    "        \"rental_price\": \"$4.99\",\n",
    "        \"rental_history\": [\n",
    "            {\"name\": \"John Doe\", \"rental_date\": \"2024-10-01\", \"return_date\": \"2024-10-07\"},\n",
    "            {\"name\": \"Emily Clark\", \"rental_date\": \"2024-10-05\", \"return_date\": \"2024-10-12\"}\n",
    "        ]\n",
    "    },\n",
    "    {\n",
    "        \"title\": \"The Godfather\",\n",
    "        \"director\": \"Francis Ford Coppola\",\n",
    "        \"release_year\": 1972,\n",
    "        \"genre\": \"Crime\",\n",
    "        \"copies_available\": 2,\n",
    "        \"rental_price\": \"$3.99\",\n",
    "        \"rental_history\": [\n",
    "            {\"name\": \"Michael Scott\", \"rental_date\": \"2024-09-28\", \"return_date\": \"2024-10-03\"},\n",
    "            {\"name\": \"Jim Halpert\", \"rental_date\": \"2024-10-02\", \"return_date\": \"2024-10-09\"}\n",
    "        ]\n",
    "    },\n",
    "    {\n",
    "        \"title\": \"The Matrix\",\n",
    "        \"director\": \"Lana Wachowski, Lilly Wachowski\",\n",
    "        \"release_year\": 1999,\n",
    "        \"genre\": \"Action\",\n",
    "        \"copies_available\": 1,\n",
    "        \"rental_price\": \"$5.49\",\n",
    "        \"rental_history\": [\n",
    "            {\"name\": \"Dwight Schrute\", \"rental_date\": \"2024-09-30\", \"return_date\": \"2024-10-06\"},\n",
    "            {\"name\": \"Pam Beesly\", \"rental_date\": \"2024-10-03\", \"return_date\": \"2024-10-10\"}\n",
    "        ]\n",
    "    },\n",
    "    {\n",
    "        \"title\": \"Parasite\",\n",
    "        \"director\": \"Bong Joon-ho\",\n",
    "        \"release_year\": 2019,\n",
    "        \"genre\": \"Thriller\",\n",
    "        \"copies_available\": 4,\n",
    "        \"rental_price\": \"$6.99\",\n",
    "        \"rental_history\": [\n",
    "            {\"name\": \"Stanley Hudson\", \"rental_date\": \"2024-10-02\", \"return_date\": \"2024-10-09\"},\n",
    "            {\"name\": \"Kevin Malone\", \"rental_date\": \"2024-10-04\", \"return_date\": \"2024-10-11\"},\n",
    "            {\"name\": \"Angela Martin\", \"rental_date\": \"2024-10-05\", \"return_date\": \"2024-10-12\"}\n",
    "        ]\n",
    "    }\n",
    "]\n",
    "\n",
    "# display information about each movie in the store\n",
    "for movie in movie_rentals:\n",
    "    print(f\"Title: {movie['title']}\")\n",
    "    print(f\"Director: {movie['director']}\")\n",
    "    print(f\"Release Year: {movie['release_year']}\")\n",
    "    print(f\"Genre: {movie['genre']}\")\n",
    "    print(f\"Copies Available: {movie['copies_available']}\")\n",
    "    print(f\"Rental Price: {movie['rental_price']}\")\n",
    "    print(\"Rental History:\")\n",
    "    for rental in movie['rental_history']:\n",
    "        print(f\" - {rental['name']} (Rented on: {rental['rental_date']}, Returned on: {rental['return_date']})\")\n",
    "    print(\"\\n\")\n",
    "\n",
    "# data obtained from Google"
   ]
  }
 ],
 "metadata": {
  "kernelspec": {
   "display_name": "Python 3 (ipykernel)",
   "language": "python",
   "name": "python3"
  },
  "language_info": {
   "codemirror_mode": {
    "name": "ipython",
    "version": 3
   },
   "file_extension": ".py",
   "mimetype": "text/x-python",
   "name": "python",
   "nbconvert_exporter": "python",
   "pygments_lexer": "ipython3",
   "version": "3.12.5"
  }
 },
 "nbformat": 4,
 "nbformat_minor": 4
}
