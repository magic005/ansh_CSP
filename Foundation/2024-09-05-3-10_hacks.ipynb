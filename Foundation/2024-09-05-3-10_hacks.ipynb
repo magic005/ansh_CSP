{
 "cells": [
  {
   "cell_type": "raw",
   "metadata": {
    "vscode": {
     "languageId": "raw"
    }
   },
   "source": [
    "---\n",
    "toc: true\n",
    "layout: post\n",
    "type: hacks\n",
    "courses: { compsci: {week: 14} }\n",
    "title: 3.10 - Ansh\n",
    "description: Hacks from lesson 3.10\n",
    "---"
   ]
  },
  {
   "cell_type": "markdown",
   "metadata": {},
   "source": [
    "# 3.10 Hack 1\n",
    "## Objective\n",
    "In this hack, we create a list and appends an element to it."
   ]
  },
  {
   "cell_type": "code",
   "execution_count": 16,
   "metadata": {},
   "outputs": [
    {
     "name": "stdout",
     "output_type": "stream",
     "text": [
      "['dog', 'cat', 'frog', 'bear']\n"
     ]
    }
   ],
   "source": [
    "# create a list\n",
    "my_list = [\"dog\", \"cat\", \"frog\"]\n",
    "\n",
    "# append an element to the list\n",
    "my_list.append(\"bear\")\n",
    "\n",
    "# print the updated list\n",
    "print(my_list)"
   ]
  },
  {
   "cell_type": "markdown",
   "metadata": {},
   "source": [
    "# 3.10 Hack 2\n",
    "## Objective\n",
    "In this hack, we create a list, and then add/remove elements using the insert/remove function."
   ]
  },
  {
   "cell_type": "code",
   "execution_count": 17,
   "metadata": {},
   "outputs": [
    {
     "name": "stdout",
     "output_type": "stream",
     "text": [
      "['dog', 'bear', 'frog']\n"
     ]
    }
   ],
   "source": [
    "# create a list\n",
    "my_list = [\"dog\", \"cat\", \"frog\"]\n",
    "\n",
    "# insert an element at a specific position (e.g., at index 1)\n",
    "my_list.insert(1, \"bear\")\n",
    "\n",
    "# remove a different element (e.g., \"cat\")\n",
    "my_list.remove(\"cat\")\n",
    "\n",
    "# print the updated list\n",
    "print(my_list)"
   ]
  },
  {
   "cell_type": "markdown",
   "metadata": {},
   "source": [
    "# 3.10 Hack 3\n",
    "## Objective\n",
    "In this hack, we create a list, and then modify one of its elements."
   ]
  },
  {
   "cell_type": "code",
   "execution_count": 18,
   "metadata": {},
   "outputs": [
    {
     "name": "stdout",
     "output_type": "stream",
     "text": [
      "['dog', 'platypus', 'frog']\n"
     ]
    }
   ],
   "source": [
    "# create a list\n",
    "my_list = [\"dog\", \"cat\", \"frog\"]\n",
    "\n",
    "# change the second element (\"cat\") to something new\n",
    "my_list[1] = \"platypus\"\n",
    "\n",
    "# print the updated list\n",
    "print(my_list)"
   ]
  },
  {
   "cell_type": "markdown",
   "metadata": {},
   "source": [
    "# Homework Hack\n",
    "## Objective\n",
    "In this hack, we find the sum of all even numbers in a user inputted list, then we determine the minumum and maximum values."
   ]
  },
  {
   "cell_type": "code",
   "execution_count": 19,
   "metadata": {},
   "outputs": [
    {
     "name": "stdout",
     "output_type": "stream",
     "text": [
      "Sum of even numbers: 12\n",
      "Minimum value: 1\n",
      "Maximum value: 6\n"
     ]
    }
   ],
   "source": [
    "def analyze_numbers(numbers):\n",
    "    # calculate the sum of even numbers\n",
    "    sum_of_evens = sum(num for num in numbers if num % 2 == 0)\n",
    "    \n",
    "    # find the minimum and maximum values\n",
    "    min_val = min(numbers)\n",
    "    max_val = max(numbers)\n",
    "\n",
    "    return sum_of_evens, min_val, max_val\n",
    "\n",
    "# example usage:\n",
    "numbers = [1, 2, 3, 4, 5, 6]\n",
    "sum_evens, min_value, max_value = analyze_numbers(numbers)\n",
    "\n",
    "print(\"Sum of even numbers:\", sum_evens)\n",
    "print(\"Minimum value:\", min_value)\n",
    "print(\"Maximum value:\", max_value)"
   ]
  }
 ],
 "metadata": {
  "kernelspec": {
   "display_name": "Python 3 (ipykernel)",
   "language": "python",
   "name": "python3"
  },
  "language_info": {
   "codemirror_mode": {
    "name": "ipython",
    "version": 3
   },
   "file_extension": ".py",
   "mimetype": "text/x-python",
   "name": "python",
   "nbconvert_exporter": "python",
   "pygments_lexer": "ipython3",
   "version": "3.12.5"
  }
 },
 "nbformat": 4,
 "nbformat_minor": 4
}
