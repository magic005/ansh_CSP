{
 "cells": [
  {
   "cell_type": "raw",
   "metadata": {
    "vscode": {
     "languageId": "raw"
    }
   },
   "source": [
    "---\n",
    "toc: true\n",
    "layout: post\n",
    "type: issues\n",
    "courses: { compsci: {week: 14} }\n",
    "title: MCQ Reflection - Ansh\n",
    "description: My reflection on the practice MCQ completed 17/11/2024.\n",
    "---"
   ]
  },
  {
   "cell_type": "markdown",
   "metadata": {},
   "source": [
    "# MCQ\n",
    "\n",
    "I scored 64/66 on the MCQ, and thus, most of my focus will be on improving efficiency and time spent on certain questions. I will discuss what I learned, what I can improve, and any corrections I had, as well as in depth explanations as to why I think I got them wrong. \n",
    "\n",
    "MCQ was completed on time, before the start of class on Monday. Peer cross-checking was completed in class.\n",
    "\n",
    "<img src=\"{{site.baseurl}}/images/mcq_score.png\">"
   ]
  },
  {
   "cell_type": "markdown",
   "metadata": {},
   "source": [
    "# My Learnings\n",
    "\n",
    "Through my completion of the quiz, I was able to learn a lot about both the expectations from this cource, and where I stand as a CS student. Mainly, I was able to understand what a College Board MCQ is really like, and what types of questions they tend to ask. I also was able to see how well I currently understand the curriculum, and while I did achieve a decent score, I feel that I have room to improve in both my efficiency and logical approach.\n",
    "\n",
    "I learned that College Board has 5 big ideas for the class:\n",
    "- Creative Development\n",
    "- Data\n",
    "- Algorithms and Programming\n",
    "- Computer Systems\n",
    "- Impact of Computing\n",
    "\n",
    "Overall, I learned a lot about the course and my current understanding by taking the practice MCQ. "
   ]
  },
  {
   "cell_type": "markdown",
   "metadata": {},
   "source": [
    "# Strengths and Weaknesses\n",
    "\n",
    "In completing the quiz and identifying the types of questions College Board may tend to ask, I was able to find the category of questions on which I can show improvement\n",
    "\n",
    "## Strengths\n",
    "\n",
    "As I went through the quiz, I found the data, computer systems, impact of computing, and creative development categories to be quite easy, due to prior knowledge and common sense. I feel that these topics are my strenghts, because I had the greatest accuracy and efficiency in doing these types of questions.\n",
    "\n",
    "## Weaknesses\n",
    "\n",
    "I found that, despite attaining a pretty decent score, many of the pseudocode questions (**algorithms and programming category**) took me a decent sum of time, which is obviously less than ideal in a time-bound testing environment. Thus, my weakness is efficiency on the programming logic questions. This weakness stems from my approach in answering the questions, in which I fumbled through the instructions and took way too long to read the actual code blocks.\n",
    "\n",
    "Thus can be seen using the College Board analytics, in which I recieved 100% in all categories and subcategories other than topic 3.9, **Developing Algorithms**, and topic 3.12, **Calling Procedures**.\n",
    "\n",
    "# Improvements\n",
    "\n",
    "I was also able to identify what I can improve within my category of weakness. I feel that my approach when looking at these questions, while logically correct and evidently very accurate, was inefficient and took took much time. Thus, I think that by spending more time with languages like python, I can deepen my understanding of algorithmic and logical code and answer questions without needing to go through every single step of what it does, and simply recognize it for its purpose and functions."
   ]
  },
  {
   "cell_type": "markdown",
   "metadata": {},
   "source": [
    "# Corrections\n",
    "\n",
    "## Question 14\n",
    "\n",
    "<img src=\"{{site.baseurl}}/images/image2.png\">\n",
    "\n",
    "### Explanation\n",
    "\n",
    "The logic specifies that the ```display i``` block is before the ```i <-- i + 1``` block in program A one, but **not** in program B. This indicates that program A and B will display the same number of values because they both iterate over i the same number of times (seen by the ```repeat until 1 > 10``` block shared by both examples), but all values displayed in program B two will be 1 greater than those in example one. Thus, option C, \"Program A and program B display the same number of values, but the values differ\" is correct.\n",
    "\n",
    "## Question 21\n",
    "\n",
    "<img src=\"{{site.baseurl}}/images/image.png\">\n",
    "\n",
    "### Explanation\n",
    "\n",
    "I simply misread the answer, I thought the answer I chose said turn left. The diagram indicates that the robot needs to move forward two squares, rotate left, and then move forward three squares. Because none of the options align with this, it is necessary to rethink the definition of \"turning left\" as rotating to the right three times, which is in accordance with option B, \"```MoveXTimes '2'```, ```RightXTimes '3'```, ```MoveXTimes '3'```\""
   ]
  }
 ],
 "metadata": {
  "kernelspec": {
   "display_name": "Python 3 (ipykernel)",
   "language": "python",
   "name": "python3"
  },
  "language_info": {
   "codemirror_mode": {
    "name": "ipython",
    "version": 3
   },
   "file_extension": ".py",
   "mimetype": "text/x-python",
   "name": "python",
   "nbconvert_exporter": "python",
   "pygments_lexer": "ipython3",
   "version": "3.12.5"
  }
 },
 "nbformat": 4,
 "nbformat_minor": 4
}
